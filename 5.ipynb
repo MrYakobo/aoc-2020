{
 "cells": [
  {
   "cell_type": "code",
   "execution_count": 1,
   "metadata": {},
   "outputs": [],
   "source": [
    "%run load_data.ipynb\n",
    "\n",
    "data = load_data(5)"
   ]
  },
  {
   "cell_type": "markdown",
   "metadata": {},
   "source": [
    "# 5.1\n",
    "Find the highest id\n",
    "\n",
    "    BFFFBBFRRR: row 70, column 7, seat ID 567\n",
    "    FFFBBBFRRR: row 14, column 7, seat ID 119\n",
    "    BBFFBBFRLL: row 102, column 4, seat ID 820"
   ]
  },
  {
   "cell_type": "code",
   "execution_count": 71,
   "metadata": {},
   "outputs": [
    {
     "data": {
      "text/plain": [
       "978"
      ]
     },
     "execution_count": 71,
     "metadata": {},
     "output_type": "execute_result"
    }
   ],
   "source": [
    "highest = 0\n",
    "for line in data:\n",
    "    binary = line.replace(\"B\", \"1\").replace(\"L\", \"0\").replace(\"F\", \"0\").replace(\"R\", \"1\")\n",
    "    row = int(binary[:7], base=2)\n",
    "    col = int(binary[7:], base=2)\n",
    "    seat_id = row*8 + col\n",
    "    highest = max(highest, seat_id)\n",
    "\n",
    "highest"
   ]
  },
  {
   "cell_type": "markdown",
   "metadata": {},
   "source": [
    "# 5.2\n",
    "There is a missing place in the boarding pass that we seek.\n",
    "\n",
    "We know that it isn't at the first few rows and at the last few rows."
   ]
  },
  {
   "cell_type": "code",
   "execution_count": 102,
   "metadata": {},
   "outputs": [
    {
     "data": {
      "text/plain": [
       "array([[  0,   0],\n",
       "       [  0,   1],\n",
       "       [  0,   2],\n",
       "       [  0,   3],\n",
       "       [  0,   4],\n",
       "       [  0,   5],\n",
       "       [  0,   6],\n",
       "       [  0,   7],\n",
       "       [  1,   0],\n",
       "       [  1,   1],\n",
       "       [  1,   2],\n",
       "       [  1,   3],\n",
       "       [  1,   4],\n",
       "       [ 90,   7],\n",
       "       [122,   3],\n",
       "       [122,   4],\n",
       "       [122,   5],\n",
       "       [122,   6],\n",
       "       [122,   7],\n",
       "       [123,   0],\n",
       "       [123,   1],\n",
       "       [123,   2],\n",
       "       [123,   3],\n",
       "       [123,   4],\n",
       "       [123,   5],\n",
       "       [123,   6],\n",
       "       [123,   7],\n",
       "       [124,   0],\n",
       "       [124,   1],\n",
       "       [124,   2],\n",
       "       [124,   3],\n",
       "       [124,   4],\n",
       "       [124,   5],\n",
       "       [124,   6],\n",
       "       [124,   7],\n",
       "       [125,   0],\n",
       "       [125,   1],\n",
       "       [125,   2],\n",
       "       [125,   3],\n",
       "       [125,   4],\n",
       "       [125,   5],\n",
       "       [125,   6],\n",
       "       [125,   7],\n",
       "       [126,   0],\n",
       "       [126,   1],\n",
       "       [126,   2],\n",
       "       [126,   3],\n",
       "       [126,   4],\n",
       "       [126,   5],\n",
       "       [126,   6],\n",
       "       [126,   7],\n",
       "       [127,   0],\n",
       "       [127,   1],\n",
       "       [127,   2],\n",
       "       [127,   3],\n",
       "       [127,   4],\n",
       "       [127,   5],\n",
       "       [127,   6],\n",
       "       [127,   7]])"
      ]
     },
     "execution_count": 102,
     "metadata": {},
     "output_type": "execute_result"
    }
   ],
   "source": [
    "seats = np.ones(128*8).reshape((128, 8))\n",
    "for line in data:\n",
    "    binary = line.replace(\"B\", \"1\").replace(\"L\", \"0\").replace(\"F\", \"0\").replace(\"R\", \"1\")\n",
    "    row = int(binary[:7], base=2)\n",
    "    col = int(binary[7:], base=2)\n",
    "    seats[row, col] = 0\n",
    "\n",
    "seats = np.transpose(seats.nonzero())\n",
    "seats"
   ]
  },
  {
   "cell_type": "code",
   "execution_count": 103,
   "metadata": {},
   "outputs": [
    {
     "data": {
      "text/plain": [
       "727"
      ]
     },
     "execution_count": 103,
     "metadata": {},
     "output_type": "execute_result"
    }
   ],
   "source": [
    "# it should be the lonely boi [ 90,   7]\n",
    "90*8+7"
   ]
  }
 ],
 "metadata": {
  "kernelspec": {
   "display_name": "Python 3",
   "language": "python",
   "name": "python3"
  },
  "language_info": {
   "codemirror_mode": {
    "name": "ipython",
    "version": 3
   },
   "file_extension": ".py",
   "mimetype": "text/x-python",
   "name": "python",
   "nbconvert_exporter": "python",
   "pygments_lexer": "ipython3",
   "version": "3.8.6"
  }
 },
 "nbformat": 4,
 "nbformat_minor": 4
}
