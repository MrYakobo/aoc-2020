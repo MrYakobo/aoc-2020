{
 "cells": [
  {
   "cell_type": "code",
   "execution_count": 13,
   "metadata": {},
   "outputs": [],
   "source": [
    "%run load_data.ipynb\n",
    "\n",
    "data = load_data(3)"
   ]
  },
  {
   "cell_type": "markdown",
   "metadata": {},
   "source": [
    "# 3.1\n",
    "You start at the top-left corner 0,0 and want to go to the bottom of the map using steps of the vector (3,1). How many trees `#` will you encounter?\n",
    "\n",
    "Also, the lines wrap around"
   ]
  },
  {
   "cell_type": "code",
   "execution_count": 26,
   "metadata": {},
   "outputs": [
    {
     "data": {
      "text/plain": [
       "252"
      ]
     },
     "execution_count": 26,
     "metadata": {},
     "output_type": "execute_result"
    }
   ],
   "source": [
    "x = 0\n",
    "trees = 0\n",
    "\n",
    "for line in data:\n",
    "    if line[x % len(line)] == \"#\":\n",
    "        trees += 1\n",
    "        \n",
    "    x += 3\n",
    "    \n",
    "trees"
   ]
  },
  {
   "cell_type": "markdown",
   "metadata": {},
   "source": [
    "# 3.2\n",
    "Now, also check the following slopes:\n",
    "\n",
    "```\n",
    "(1,1)\n",
    "(3,1) (that's 3.1)\n",
    "(5,1)\n",
    "(7,1)\n",
    "(1,2)\n",
    "```\n",
    "What do you get if you multiply together the number of trees encountered on each of the listed slopes?"
   ]
  },
  {
   "cell_type": "code",
   "execution_count": 55,
   "metadata": {},
   "outputs": [
    {
     "data": {
      "text/plain": [
       "2608962048"
      ]
     },
     "execution_count": 55,
     "metadata": {},
     "output_type": "execute_result"
    }
   ],
   "source": [
    "slopes = [(1,1), (3,1), (5,1), (7,1), (1,2)]\n",
    "prod = 1\n",
    "\n",
    "def dbg(line, pos):\n",
    "    tmp = list(line)\n",
    "    tmp[pos] = tmp[pos].replace(\"#\", \"X\").replace(\".\", \"O\")\n",
    "    tmp = ''.join(tmp)\n",
    "    print(tmp)\n",
    "\n",
    "for dx, dy in slopes:\n",
    "    x = 0\n",
    "    trees = 0\n",
    "    for line in data[::dy]:\n",
    "        pos = x % len(line)\n",
    "        if line[pos] == \"#\":\n",
    "            trees += 1\n",
    "\n",
    "        x += dx\n",
    "        \n",
    "    prod *= trees\n",
    "    \n",
    "prod"
   ]
  }
 ],
 "metadata": {
  "kernelspec": {
   "display_name": "Python 3",
   "language": "python",
   "name": "python3"
  },
  "language_info": {
   "codemirror_mode": {
    "name": "ipython",
    "version": 3
   },
   "file_extension": ".py",
   "mimetype": "text/x-python",
   "name": "python",
   "nbconvert_exporter": "python",
   "pygments_lexer": "ipython3",
   "version": "3.8.6"
  }
 },
 "nbformat": 4,
 "nbformat_minor": 4
}
