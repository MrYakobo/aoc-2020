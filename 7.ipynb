{
 "cells": [
  {
   "cell_type": "code",
   "execution_count": 10,
   "metadata": {},
   "outputs": [],
   "source": [
    "%run load_data.ipynb\n",
    "data = load_data(7)"
   ]
  },
  {
   "cell_type": "code",
   "execution_count": 11,
   "metadata": {},
   "outputs": [],
   "source": [
    "import io\n",
    "import pandas as pd\n",
    "\n",
    "df = pd.read_csv(io.StringIO(\"\\n\".join(data)), sep=\" contain \", header=None, engine='python')\n",
    "df.columns = [\"parent\", \"child\"]\n",
    "df.child = df.child.apply(lambda x: x.replace(\".\", \"\").replace(\"bags\", \"\").replace(\"bag\", \"\").replace(\"no other\", \"0\").strip().split(\", \"))\n",
    "df.parent = df.parent.str.replace(\"bags\", \"\").str.strip()\n",
    "df = df.explode('child').reset_index(drop=True)\n",
    "df[\"quantity\"] = df.child.str[0].astype(int)\n",
    "df.child = df.child.str[2:].str.strip()\n",
    "\n",
    "# remove empty strings\n",
    "df = df[df.child.str.strip().astype(bool)]"
   ]
  },
  {
   "cell_type": "markdown",
   "metadata": {},
   "source": [
    "# 7.1\n",
    "Bags can contain other bags. Find the number of different top-level-bags that can carry a `shiny gold`-bag."
   ]
  },
  {
   "cell_type": "code",
   "execution_count": 2,
   "metadata": {},
   "outputs": [
    {
     "data": {
      "text/plain": [
       "155"
      ]
     },
     "execution_count": 2,
     "metadata": {},
     "output_type": "execute_result"
    }
   ],
   "source": [
    "r = set()\n",
    "def find1(curr):\n",
    "    parents = df[df.child == curr].parent\n",
    "    r.update(parents)\n",
    "    \n",
    "    for parent in parents:\n",
    "        find1(parent)\n",
    "\n",
    "find1(\"shiny gold\")\n",
    "len(r)"
   ]
  },
  {
   "cell_type": "markdown",
   "metadata": {},
   "source": [
    "# 7.2\n",
    "\n",
    "Count the number of bags that the `shiny gold` bag contains"
   ]
  },
  {
   "cell_type": "code",
   "execution_count": 3,
   "metadata": {},
   "outputs": [
    {
     "data": {
      "text/plain": [
       "54803"
      ]
     },
     "execution_count": 3,
     "metadata": {},
     "output_type": "execute_result"
    }
   ],
   "source": [
    "def find2(curr):\n",
    "    s = 1\n",
    "    children = df[df.parent == curr]\n",
    "    \n",
    "    for child in children.itertuples():\n",
    "        s += child.quantity * find2(child.child)\n",
    "\n",
    "    return s\n",
    "\n",
    "find2(\"shiny gold\")-1"
   ]
  }
 ],
 "metadata": {
  "kernelspec": {
   "display_name": "Python 3",
   "language": "python",
   "name": "python3"
  },
  "language_info": {
   "codemirror_mode": {
    "name": "ipython",
    "version": 3
   },
   "file_extension": ".py",
   "mimetype": "text/x-python",
   "name": "python",
   "nbconvert_exporter": "python",
   "pygments_lexer": "ipython3",
   "version": "3.9.0"
  }
 },
 "nbformat": 4,
 "nbformat_minor": 4
}
