{
 "cells": [
  {
   "cell_type": "code",
   "execution_count": 170,
   "metadata": {},
   "outputs": [],
   "source": [
    "%run load_data.ipynb\n",
    "data = load_data(9)\n",
    "digits = [int(f) for f in data]"
   ]
  },
  {
   "cell_type": "markdown",
   "metadata": {},
   "source": [
    "# 9.1\n",
    "Find the first digit that is not the sum of two preceding numbers, with a horizon of 25."
   ]
  },
  {
   "cell_type": "code",
   "execution_count": 174,
   "metadata": {},
   "outputs": [
    {
     "data": {
      "text/plain": [
       "1639024365"
      ]
     },
     "execution_count": 174,
     "metadata": {},
     "output_type": "execute_result"
    }
   ],
   "source": [
    "from itertools import combinations\n",
    "horizon = 25\n",
    "\n",
    "for i, dig in enumerate(digits):\n",
    "    if i < horizon:\n",
    "        continue\n",
    "\n",
    "    combs = combinations(digits[i-horizon:i], 2)\n",
    "    sums = map(sum, combs)\n",
    "    if dig not in sums:\n",
    "        break\n",
    "        \n",
    "dig"
   ]
  },
  {
   "cell_type": "markdown",
   "metadata": {},
   "source": [
    "# 9.2\n",
    "Find a stride (len>2) of numbers that sum up to `dig`. Find the sum of the sets smallest and largest number."
   ]
  },
  {
   "cell_type": "code",
   "execution_count": 173,
   "metadata": {},
   "outputs": [
    {
     "data": {
      "text/plain": [
       "219202240"
      ]
     },
     "execution_count": 173,
     "metadata": {},
     "output_type": "execute_result"
    }
   ],
   "source": [
    "def search():\n",
    "    for stride_len in range(2, len(digits)):\n",
    "        for offset in range(len(digits)):\n",
    "            stride = digits[offset:offset+stride_len]\n",
    "            if sum(stride) == dig:\n",
    "                return min(stride) + max(stride)\n",
    "        \n",
    "search()"
   ]
  }
 ],
 "metadata": {
  "kernelspec": {
   "display_name": "Python 3",
   "language": "python",
   "name": "python3"
  },
  "language_info": {
   "codemirror_mode": {
    "name": "ipython",
    "version": 3
   },
   "file_extension": ".py",
   "mimetype": "text/x-python",
   "name": "python",
   "nbconvert_exporter": "python",
   "pygments_lexer": "ipython3",
   "version": "3.9.0"
  }
 },
 "nbformat": 4,
 "nbformat_minor": 4
}
