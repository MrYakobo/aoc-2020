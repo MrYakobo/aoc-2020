{
 "cells": [
  {
   "cell_type": "code",
   "execution_count": 2,
   "metadata": {},
   "outputs": [],
   "source": [
    "%run load_data.ipynb\n",
    "data = load_data(8)"
   ]
  },
  {
   "cell_type": "markdown",
   "metadata": {},
   "source": [
    "# 8.1\n",
    "\n",
    "What is the A register when you end up on the same PC twice?"
   ]
  },
  {
   "cell_type": "code",
   "execution_count": 60,
   "metadata": {},
   "outputs": [
    {
     "data": {
      "text/plain": [
       "(452, 1553, 'infinite loop')"
      ]
     },
     "execution_count": 60,
     "metadata": {},
     "output_type": "execute_result"
    }
   ],
   "source": [
    "def run_program(data, PC=0, A=0):\n",
    "    visited = set()\n",
    "\n",
    "    while PC < len(data):\n",
    "        op, arg = data[PC].split()\n",
    "        if PC in visited:\n",
    "            return PC, A, \"infinite loop\"\n",
    "\n",
    "        visited.add(PC)\n",
    "        arg = int(arg)\n",
    "\n",
    "        if op == \"nop\":\n",
    "            PC += 1\n",
    "        if op == \"acc\":\n",
    "            A += arg\n",
    "            PC += 1\n",
    "        if op == \"jmp\":\n",
    "            PC += arg\n",
    "            \n",
    "    return PC, A, \"completed\"\n",
    "\n",
    "run_program(data)"
   ]
  },
  {
   "cell_type": "markdown",
   "metadata": {},
   "source": [
    "# 8.2\n",
    "\n",
    "Toggle one jump/nop instruction to make PC go to the end of the instructions"
   ]
  },
  {
   "cell_type": "code",
   "execution_count": 65,
   "metadata": {},
   "outputs": [
    {
     "name": "stdout",
     "output_type": "stream",
     "text": [
      "1877\n"
     ]
    }
   ],
   "source": [
    "swap = {\"acc\": \"acc\", \"nop\": \"jmp\", \"jmp\": \"nop\"}\n",
    "\n",
    "for i, line in enumerate(data):\n",
    "    op, arg = line.split()\n",
    "    op = swap[op]\n",
    "    \n",
    "    data2 = data.copy()\n",
    "    data2[i] = f\"{op} {arg}\"\n",
    "    _, A, res = run_program(data2)\n",
    "    if res == \"completed\":\n",
    "        print(A)\n",
    "        break"
   ]
  }
 ],
 "metadata": {
  "kernelspec": {
   "display_name": "Python 3",
   "language": "python",
   "name": "python3"
  },
  "language_info": {
   "codemirror_mode": {
    "name": "ipython",
    "version": 3
   },
   "file_extension": ".py",
   "mimetype": "text/x-python",
   "name": "python",
   "nbconvert_exporter": "python",
   "pygments_lexer": "ipython3",
   "version": "3.9.0"
  }
 },
 "nbformat": 4,
 "nbformat_minor": 4
}
