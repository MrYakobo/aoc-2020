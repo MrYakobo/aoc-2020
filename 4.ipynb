{
 "cells": [
  {
   "cell_type": "code",
   "execution_count": 1,
   "metadata": {},
   "outputs": [],
   "source": [
    "%run load_data.ipynb"
   ]
  },
  {
   "cell_type": "markdown",
   "metadata": {},
   "source": [
    "# 4.1\n",
    "The following fields are required for a valid passport\n",
    "\n",
    "`byr`,`iyr`,`eyr`,`hgt`,`hcl`,`ecl`,`pid`"
   ]
  },
  {
   "cell_type": "code",
   "execution_count": 2,
   "metadata": {},
   "outputs": [],
   "source": [
    "data = load_data(4)"
   ]
  },
  {
   "cell_type": "code",
   "execution_count": 3,
   "metadata": {},
   "outputs": [
    {
     "data": {
      "text/plain": [
       "254"
      ]
     },
     "execution_count": 3,
     "metadata": {},
     "output_type": "execute_result"
    }
   ],
   "source": [
    "required = set(['byr','iyr','eyr','hgt','hcl','ecl','pid'])\n",
    "lines = ' '.join(data).split(\"  \")\n",
    "\n",
    "c = 0\n",
    "for line in lines:\n",
    "    fields = set([kv.split(\":\")[0] for kv in line.split(\" \")])\n",
    "    if required.issubset(fields):\n",
    "        c += 1\n",
    "        \n",
    "c"
   ]
  },
  {
   "cell_type": "markdown",
   "metadata": {},
   "source": [
    "# 4.2\n",
    "New requirements:\n",
    "\n",
    "```\n",
    "byr (Birth Year) - four digits; at least 1920 and at most 2002.\n",
    "iyr (Issue Year) - four digits; at least 2010 and at most 2020.\n",
    "eyr (Expiration Year) - four digits; at least 2020 and at most 2030.\n",
    "hgt (Height) - a number followed by either cm or in:\n",
    "If cm, the number must be at least 150 and at most 193.\n",
    "If in, the number must be at least 59 and at most 76.\n",
    "hcl (Hair Color) - a # followed by exactly six characters 0-9 or a-f.\n",
    "ecl (Eye Color) - exactly one of: amb blu brn gry grn hzl oth.\n",
    "pid (Passport ID) - a nine-digit number, including leading zeroes.\n",
    "cid (Country ID) - ignored, missing or not.\n",
    "```"
   ]
  },
  {
   "cell_type": "code",
   "execution_count": 16,
   "metadata": {},
   "outputs": [],
   "source": [
    "cm_inch = {\n",
    "    \"cm\": lambda cm: 150 <= int(cm) <= 193,\n",
    "    \"in\": lambda inch: 59 <= int(inch) <= 76\n",
    "}\n",
    "\n",
    "requirements = {\n",
    "    \"byr\": lambda x: 1920 <= int(x) <= 2002,\n",
    "    \"iyr\": lambda x: 2010 <= int(x) <= 2020,\n",
    "    \"eyr\": lambda x: 2020 <= int(x) <= 2030,\n",
    "    \"hgt\": lambda x: cm_inch[x[-2:]](x[:-2]),\n",
    "    \"hcl\": lambda x: x[0] == \"#\" and int(x[1:], base=16),\n",
    "    \"ecl\": lambda x: x in \"amb blu brn gry grn hzl oth\".split(),\n",
    "    \"pid\": lambda x: int(x) and len(x) == 9,\n",
    "    \"cid\": lambda x: True\n",
    "}\n",
    "\n",
    "def ok(key, val):\n",
    "    try:\n",
    "        is_ok = requirements[key](val)\n",
    "    except:\n",
    "        return False\n",
    "    \n",
    "    return is_ok\n",
    "\n",
    "c = 0\n",
    "\n",
    "for line in lines:\n",
    "    fields = set([kv.split(\":\")[0] for kv in line.split(\" \")])\n",
    "    if not required.issubset(fields):\n",
    "        continue\n",
    "\n",
    "    all_ok = True\n",
    "    for kv in line.split(\" \"):\n",
    "        key, val = kv.split(\":\")\n",
    "        if not ok(key, val):\n",
    "            all_ok = False\n",
    "            break\n",
    "            \n",
    "    if all_ok:\n",
    "        c += 1\n",
    "    \n",
    "c"
   ]
  },
  {
   "cell_type": "code",
   "execution_count": 17,
   "metadata": {
    "jupyter": {
     "source_hidden": true
    }
   },
   "outputs": [],
   "source": [
    "assert(requirements[\"byr\"](\"2002\"))\n",
    "assert(not requirements[\"byr\"](\"2003\"))\n",
    "\n",
    "assert(requirements[\"hgt\"](\"60in\"))\n",
    "assert(requirements[\"hgt\"](\"190cm\"))\n",
    "assert(not requirements[\"hgt\"](\"190in\"))\n",
    "\n",
    "assert(requirements[\"hcl\"](\"#123abc\"))\n",
    "assert(not requirements[\"hcl\"](\"123abc\"))\n",
    "\n",
    "assert(requirements[\"ecl\"](\"brn\"))\n",
    "assert(not requirements[\"ecl\"](\"wat\"))\n",
    "\n",
    "assert(requirements[\"pid\"](\"000000001\"))\n",
    "assert(not requirements[\"pid\"](\"0123456789\"))"
   ]
  }
 ],
 "metadata": {
  "kernelspec": {
   "display_name": "Python 3",
   "language": "python",
   "name": "python3"
  },
  "language_info": {
   "codemirror_mode": {
    "name": "ipython",
    "version": 3
   },
   "file_extension": ".py",
   "mimetype": "text/x-python",
   "name": "python",
   "nbconvert_exporter": "python",
   "pygments_lexer": "ipython3",
   "version": "3.8.6"
  }
 },
 "nbformat": 4,
 "nbformat_minor": 4
}
