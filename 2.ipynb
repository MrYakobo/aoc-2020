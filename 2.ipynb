{
 "cells": [
  {
   "cell_type": "code",
   "execution_count": 2,
   "metadata": {},
   "outputs": [],
   "source": [
    "%run load_data.ipynb"
   ]
  },
  {
   "cell_type": "markdown",
   "metadata": {},
   "source": [
    "# 2.1\n",
    "\n",
    "Policies looks like this:\n",
    "\n",
    "```\n",
    "1-3 a: abcde\n",
    "1-3 b: cdefg\n",
    "2-9 c: ccccccccc\n",
    "```\n",
    "\n",
    "`1-3 a` means that 1 through 3 counts of `a` are OK, not less, not more.\n",
    "What's right of the colon is the string to test.\n",
    "\n",
    "How many passwords are valid according to the policies?"
   ]
  },
  {
   "cell_type": "code",
   "execution_count": 3,
   "metadata": {},
   "outputs": [],
   "source": [
    "data = load_data(2)"
   ]
  },
  {
   "cell_type": "code",
   "execution_count": 4,
   "metadata": {},
   "outputs": [
    {
     "data": {
      "text/plain": [
       "548"
      ]
     },
     "execution_count": 4,
     "metadata": {},
     "output_type": "execute_result"
    }
   ],
   "source": [
    "c = 0\n",
    "for line in data:\n",
    "    repeats, char = line.split(\":\")[0].strip().split(\" \")\n",
    "    string = line.split(\":\")[1].strip()\n",
    "    \n",
    "    lo, hi = map(int, repeats.split(\"-\"))\n",
    "    if lo <= string.count(char) <= hi:\n",
    "        c+=1\n",
    "c"
   ]
  },
  {
   "cell_type": "markdown",
   "metadata": {},
   "source": [
    "# 2.2\n",
    "`1-3 a` means that position 1 and 3 has exactly one `a` character.\n",
    "How many passwords are valid?"
   ]
  },
  {
   "cell_type": "code",
   "execution_count": 5,
   "metadata": {},
   "outputs": [
    {
     "data": {
      "text/plain": [
       "502"
      ]
     },
     "execution_count": 5,
     "metadata": {},
     "output_type": "execute_result"
    }
   ],
   "source": [
    "c = 0\n",
    "for line in data:\n",
    "    repeats, char = line.split(\":\")[0].strip().split(\" \")\n",
    "    string = line.split(\":\")[1].strip()\n",
    "    \n",
    "    lo, hi = map(int, repeats.split(\"-\"))\n",
    "    matches = []\n",
    "    \n",
    "    for i,pass_char in enumerate(string):\n",
    "        if pass_char == char and (i+1 == lo or i+1 == hi):\n",
    "            matches.append(i)\n",
    "\n",
    "    if len(matches) == 1:\n",
    "        c+=1\n",
    "c"
   ]
  }
 ],
 "metadata": {
  "kernelspec": {
   "display_name": "Python 3",
   "language": "python",
   "name": "python3"
  },
  "language_info": {
   "codemirror_mode": {
    "name": "ipython",
    "version": 3
   },
   "file_extension": ".py",
   "mimetype": "text/x-python",
   "name": "python",
   "nbconvert_exporter": "python",
   "pygments_lexer": "ipython3",
   "version": "3.8.6"
  }
 },
 "nbformat": 4,
 "nbformat_minor": 4
}
